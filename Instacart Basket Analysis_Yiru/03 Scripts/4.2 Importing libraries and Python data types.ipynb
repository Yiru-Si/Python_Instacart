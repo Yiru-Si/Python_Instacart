{
 "cells": [
  {
   "cell_type": "markdown",
   "id": "b8f17923",
   "metadata": {},
   "source": [
    "# 01. Importing libraries"
   ]
  },
  {
   "cell_type": "code",
   "execution_count": 1,
   "id": "1ce408b4",
   "metadata": {},
   "outputs": [],
   "source": [
    "# import libraries\n",
    "import pandas as pd\n",
    "import numpy as np\n",
    "import os"
   ]
  },
  {
   "cell_type": "markdown",
   "id": "915aa70d",
   "metadata": {},
   "source": [
    "# 02. Data types in python"
   ]
  },
  {
   "cell_type": "code",
   "execution_count": 28,
   "id": "a6302970",
   "metadata": {},
   "outputs": [],
   "source": [
    "# Question 7: 3 ways of reaching a result of 100\n",
    "# Way 1\n",
    "a = 51"
   ]
  },
  {
   "cell_type": "code",
   "execution_count": 29,
   "id": "b47623ae",
   "metadata": {},
   "outputs": [],
   "source": [
    "b = 49"
   ]
  },
  {
   "cell_type": "code",
   "execution_count": 30,
   "id": "2ea75415",
   "metadata": {},
   "outputs": [
    {
     "name": "stdout",
     "output_type": "stream",
     "text": [
      "100\n"
     ]
    }
   ],
   "source": [
    "print(a + b)"
   ]
  },
  {
   "cell_type": "code",
   "execution_count": 31,
   "id": "ce40d24a",
   "metadata": {},
   "outputs": [],
   "source": [
    "# Way 2\n",
    "a = 200"
   ]
  },
  {
   "cell_type": "code",
   "execution_count": 32,
   "id": "d523eb5e",
   "metadata": {},
   "outputs": [],
   "source": [
    "b = 100"
   ]
  },
  {
   "cell_type": "code",
   "execution_count": 33,
   "id": "a75acddf",
   "metadata": {},
   "outputs": [
    {
     "name": "stdout",
     "output_type": "stream",
     "text": [
      "100\n"
     ]
    }
   ],
   "source": [
    "print(a - b)"
   ]
  },
  {
   "cell_type": "code",
   "execution_count": 34,
   "id": "7ab56052",
   "metadata": {},
   "outputs": [],
   "source": [
    "# Way 3\n",
    "a = 980"
   ]
  },
  {
   "cell_type": "code",
   "execution_count": 35,
   "id": "7df1958d",
   "metadata": {},
   "outputs": [],
   "source": [
    "b = 880"
   ]
  },
  {
   "cell_type": "code",
   "execution_count": 36,
   "id": "56436639",
   "metadata": {},
   "outputs": [
    {
     "name": "stdout",
     "output_type": "stream",
     "text": [
      "100\n"
     ]
    }
   ],
   "source": [
    "print(a - b)"
   ]
  },
  {
   "cell_type": "code",
   "execution_count": 37,
   "id": "5d172a53",
   "metadata": {},
   "outputs": [],
   "source": [
    "#Question 8: code 2 floating-point variables and divide them by each other\n",
    "a = 5.6"
   ]
  },
  {
   "cell_type": "code",
   "execution_count": 38,
   "id": "74ddad1e",
   "metadata": {},
   "outputs": [],
   "source": [
    "b = 2.8"
   ]
  },
  {
   "cell_type": "code",
   "execution_count": 39,
   "id": "6e962572",
   "metadata": {},
   "outputs": [
    {
     "name": "stdout",
     "output_type": "stream",
     "text": [
      "2.0\n"
     ]
    }
   ],
   "source": [
    "print(a / b)"
   ]
  },
  {
   "cell_type": "code",
   "execution_count": 43,
   "id": "177fac0f",
   "metadata": {},
   "outputs": [],
   "source": [
    "#Question 9: construct a short word made of separate strings\n",
    "a = 'teddy '"
   ]
  },
  {
   "cell_type": "code",
   "execution_count": 44,
   "id": "c714f66d",
   "metadata": {},
   "outputs": [],
   "source": [
    "b = 'bear'"
   ]
  },
  {
   "cell_type": "code",
   "execution_count": 45,
   "id": "fd04635f",
   "metadata": {},
   "outputs": [
    {
     "data": {
      "text/plain": [
       "'teddy bear'"
      ]
     },
     "execution_count": 45,
     "metadata": {},
     "output_type": "execute_result"
    }
   ],
   "source": [
    "a + b "
   ]
  },
  {
   "cell_type": "code",
   "execution_count": 46,
   "id": "d9ef58f8",
   "metadata": {},
   "outputs": [],
   "source": [
    "#Question 10: construct two short sentences made of separate strings\n",
    "#1st.\n",
    "a = 'I finally '"
   ]
  },
  {
   "cell_type": "code",
   "execution_count": 47,
   "id": "5f8c13e3",
   "metadata": {},
   "outputs": [],
   "source": [
    "b = 'worked it out!'"
   ]
  },
  {
   "cell_type": "code",
   "execution_count": 48,
   "id": "38eb952d",
   "metadata": {},
   "outputs": [
    {
     "data": {
      "text/plain": [
       "'I finally worked it out!'"
      ]
     },
     "execution_count": 48,
     "metadata": {},
     "output_type": "execute_result"
    }
   ],
   "source": [
    "a + b"
   ]
  },
  {
   "cell_type": "code",
   "execution_count": 52,
   "id": "861c24cb",
   "metadata": {},
   "outputs": [],
   "source": [
    "#2nd.\n",
    "a = 'What a '"
   ]
  },
  {
   "cell_type": "code",
   "execution_count": 53,
   "id": "7b5091ad",
   "metadata": {},
   "outputs": [],
   "source": [
    "b = 'great day!'"
   ]
  },
  {
   "cell_type": "code",
   "execution_count": 54,
   "id": "2483009e",
   "metadata": {},
   "outputs": [
    {
     "data": {
      "text/plain": [
       "'What a great day!'"
      ]
     },
     "execution_count": 54,
     "metadata": {},
     "output_type": "execute_result"
    }
   ],
   "source": [
    "a + b"
   ]
  },
  {
   "cell_type": "code",
   "execution_count": null,
   "id": "44dfd67d",
   "metadata": {},
   "outputs": [],
   "source": []
  },
  {
   "cell_type": "code",
   "execution_count": null,
   "id": "805f4510",
   "metadata": {},
   "outputs": [],
   "source": []
  },
  {
   "cell_type": "code",
   "execution_count": 2,
   "id": "020df9ed",
   "metadata": {},
   "outputs": [],
   "source": [
    "#exercises from materials\n",
    "x = 2"
   ]
  },
  {
   "cell_type": "code",
   "execution_count": 3,
   "id": "7f41db0c",
   "metadata": {},
   "outputs": [
    {
     "data": {
      "text/plain": [
       "2"
      ]
     },
     "execution_count": 3,
     "metadata": {},
     "output_type": "execute_result"
    }
   ],
   "source": [
    "x"
   ]
  },
  {
   "cell_type": "code",
   "execution_count": 4,
   "id": "8e722ea8",
   "metadata": {},
   "outputs": [
    {
     "name": "stdout",
     "output_type": "stream",
     "text": [
      "2\n"
     ]
    }
   ],
   "source": [
    "print(x)"
   ]
  },
  {
   "cell_type": "code",
   "execution_count": 5,
   "id": "d33a9045",
   "metadata": {},
   "outputs": [
    {
     "data": {
      "text/plain": [
       "int"
      ]
     },
     "execution_count": 5,
     "metadata": {},
     "output_type": "execute_result"
    }
   ],
   "source": [
    "type(x)"
   ]
  },
  {
   "cell_type": "code",
   "execution_count": 6,
   "id": "656f5bdd",
   "metadata": {},
   "outputs": [],
   "source": [
    "y = 5.678"
   ]
  },
  {
   "cell_type": "code",
   "execution_count": 7,
   "id": "d8e2e545",
   "metadata": {},
   "outputs": [
    {
     "data": {
      "text/plain": [
       "float"
      ]
     },
     "execution_count": 7,
     "metadata": {},
     "output_type": "execute_result"
    }
   ],
   "source": [
    "type(y)"
   ]
  },
  {
   "cell_type": "code",
   "execution_count": 8,
   "id": "cae1fe43",
   "metadata": {},
   "outputs": [],
   "source": [
    "z = 'Brazil'"
   ]
  },
  {
   "cell_type": "code",
   "execution_count": 9,
   "id": "04188cee",
   "metadata": {},
   "outputs": [
    {
     "data": {
      "text/plain": [
       "str"
      ]
     },
     "execution_count": 9,
     "metadata": {},
     "output_type": "execute_result"
    }
   ],
   "source": [
    "type(z)"
   ]
  },
  {
   "cell_type": "code",
   "execution_count": 10,
   "id": "ed2287df",
   "metadata": {},
   "outputs": [
    {
     "data": {
      "text/plain": [
       "str"
      ]
     },
     "execution_count": 10,
     "metadata": {},
     "output_type": "execute_result"
    }
   ],
   "source": [
    "type('Mania')"
   ]
  },
  {
   "cell_type": "code",
   "execution_count": 11,
   "id": "21e46883",
   "metadata": {},
   "outputs": [
    {
     "data": {
      "text/plain": [
       "bool"
      ]
     },
     "execution_count": 11,
     "metadata": {},
     "output_type": "execute_result"
    }
   ],
   "source": [
    "type(True)"
   ]
  },
  {
   "cell_type": "code",
   "execution_count": 12,
   "id": "8c9f8c75",
   "metadata": {},
   "outputs": [
    {
     "data": {
      "text/plain": [
       "bool"
      ]
     },
     "execution_count": 12,
     "metadata": {},
     "output_type": "execute_result"
    }
   ],
   "source": [
    "type(False)"
   ]
  },
  {
   "cell_type": "code",
   "execution_count": 13,
   "id": "dac0ff18",
   "metadata": {},
   "outputs": [
    {
     "name": "stdout",
     "output_type": "stream",
     "text": [
      "2\n"
     ]
    }
   ],
   "source": [
    "print(x)"
   ]
  },
  {
   "cell_type": "code",
   "execution_count": 14,
   "id": "40eb2128",
   "metadata": {},
   "outputs": [
    {
     "data": {
      "text/plain": [
       "6"
      ]
     },
     "execution_count": 14,
     "metadata": {},
     "output_type": "execute_result"
    }
   ],
   "source": [
    "x + 4"
   ]
  },
  {
   "cell_type": "code",
   "execution_count": 15,
   "id": "da3a8904",
   "metadata": {},
   "outputs": [
    {
     "data": {
      "text/plain": [
       "7.678"
      ]
     },
     "execution_count": 15,
     "metadata": {},
     "output_type": "execute_result"
    }
   ],
   "source": [
    "x + y"
   ]
  },
  {
   "cell_type": "code",
   "execution_count": null,
   "id": "1e0ee8ad",
   "metadata": {},
   "outputs": [],
   "source": []
  },
  {
   "cell_type": "code",
   "execution_count": 16,
   "id": "78d78b1e",
   "metadata": {},
   "outputs": [],
   "source": [
    "x = x + 4"
   ]
  },
  {
   "cell_type": "code",
   "execution_count": 17,
   "id": "f3f85f8b",
   "metadata": {},
   "outputs": [
    {
     "name": "stdout",
     "output_type": "stream",
     "text": [
      "6\n"
     ]
    }
   ],
   "source": [
    "print(x)"
   ]
  },
  {
   "cell_type": "code",
   "execution_count": 21,
   "id": "238b9c03",
   "metadata": {},
   "outputs": [],
   "source": [
    "a = 'Hello, '"
   ]
  },
  {
   "cell_type": "code",
   "execution_count": 22,
   "id": "05aafc9b",
   "metadata": {},
   "outputs": [],
   "source": [
    "b = 'Marley'"
   ]
  },
  {
   "cell_type": "code",
   "execution_count": 23,
   "id": "cdbed167",
   "metadata": {},
   "outputs": [
    {
     "data": {
      "text/plain": [
       "'Hello, Marley'"
      ]
     },
     "execution_count": 23,
     "metadata": {},
     "output_type": "execute_result"
    }
   ],
   "source": [
    "a + b"
   ]
  },
  {
   "cell_type": "code",
   "execution_count": 24,
   "id": "b6f38753",
   "metadata": {},
   "outputs": [
    {
     "data": {
      "text/plain": [
       "False"
      ]
     },
     "execution_count": 24,
     "metadata": {},
     "output_type": "execute_result"
    }
   ],
   "source": [
    "x == y"
   ]
  },
  {
   "cell_type": "code",
   "execution_count": 25,
   "id": "93fea801",
   "metadata": {},
   "outputs": [
    {
     "data": {
      "text/plain": [
       "bool"
      ]
     },
     "execution_count": 25,
     "metadata": {},
     "output_type": "execute_result"
    }
   ],
   "source": [
    "type(x == y)"
   ]
  },
  {
   "cell_type": "code",
   "execution_count": null,
   "id": "e1f640df",
   "metadata": {},
   "outputs": [],
   "source": []
  }
 ],
 "metadata": {
  "kernelspec": {
   "display_name": "Python 3 (ipykernel)",
   "language": "python",
   "name": "python3"
  },
  "language_info": {
   "codemirror_mode": {
    "name": "ipython",
    "version": 3
   },
   "file_extension": ".py",
   "mimetype": "text/x-python",
   "name": "python",
   "nbconvert_exporter": "python",
   "pygments_lexer": "ipython3",
   "version": "3.11.5"
  }
 },
 "nbformat": 4,
 "nbformat_minor": 5
}
