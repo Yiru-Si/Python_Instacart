{
 "cells": [
  {
   "cell_type": "markdown",
   "id": "0acb1830",
   "metadata": {},
   "source": [
    "# Task"
   ]
  },
  {
   "cell_type": "markdown",
   "id": "982078e3",
   "metadata": {},
   "source": [
    "### Step 1: Create a new notebook for this task. Be sure to import the relevant libraries, along with your ords_prods_merge dataframe, which should include your newly derived columns from the previous Exercise."
   ]
  },
  {
   "cell_type": "code",
   "execution_count": 10,
   "id": "f51067ba",
   "metadata": {},
   "outputs": [],
   "source": [
    "# Import Libraries\n",
    "import pandas as pd\n",
    "import numpy as np\n",
    "import os"
   ]
  },
  {
   "cell_type": "code",
   "execution_count": 2,
   "id": "2552b422",
   "metadata": {},
   "outputs": [],
   "source": [
    "# Import data set\n",
    "path = r'/Users/minglunchen/Desktop/12-2023 Instacart Basket Analysis'"
   ]
  },
  {
   "cell_type": "code",
   "execution_count": 4,
   "id": "ff51ea61",
   "metadata": {},
   "outputs": [],
   "source": [
    "ords_prods_merge = pd.read_pickle(os.path.join(path, '02 Data', 'Prepared Data', 'ords_prods_merge_derived.pkl'))"
   ]
  },
  {
   "cell_type": "code",
   "execution_count": 55,
   "id": "496649f3",
   "metadata": {},
   "outputs": [
    {
     "data": {
      "text/html": [
       "<div>\n",
       "<style scoped>\n",
       "    .dataframe tbody tr th:only-of-type {\n",
       "        vertical-align: middle;\n",
       "    }\n",
       "\n",
       "    .dataframe tbody tr th {\n",
       "        vertical-align: top;\n",
       "    }\n",
       "\n",
       "    .dataframe thead th {\n",
       "        text-align: right;\n",
       "    }\n",
       "</style>\n",
       "<table border=\"1\" class=\"dataframe\">\n",
       "  <thead>\n",
       "    <tr style=\"text-align: right;\">\n",
       "      <th></th>\n",
       "      <th>order_id</th>\n",
       "      <th>user_id</th>\n",
       "      <th>eval_set</th>\n",
       "      <th>order_number</th>\n",
       "      <th>orders_day_of_week</th>\n",
       "      <th>order_hour_of_day</th>\n",
       "      <th>orders_interval</th>\n",
       "      <th>first_order</th>\n",
       "      <th>product_id</th>\n",
       "      <th>add_to_cart_order</th>\n",
       "      <th>...</th>\n",
       "      <th>price_range_loc</th>\n",
       "      <th>busiest_day</th>\n",
       "      <th>busiest_day_2</th>\n",
       "      <th>busiest_period_of_day</th>\n",
       "      <th>max_order</th>\n",
       "      <th>loyalty_flag</th>\n",
       "      <th>avg_spending</th>\n",
       "      <th>spending_flag</th>\n",
       "      <th>median_orders_interval</th>\n",
       "      <th>frequency_flag</th>\n",
       "    </tr>\n",
       "  </thead>\n",
       "  <tbody>\n",
       "    <tr>\n",
       "      <th>0</th>\n",
       "      <td>2539329</td>\n",
       "      <td>1</td>\n",
       "      <td>prior</td>\n",
       "      <td>1</td>\n",
       "      <td>2</td>\n",
       "      <td>8</td>\n",
       "      <td>NaN</td>\n",
       "      <td>True</td>\n",
       "      <td>196</td>\n",
       "      <td>1</td>\n",
       "      <td>...</td>\n",
       "      <td>Mid range product</td>\n",
       "      <td>Regularly busy</td>\n",
       "      <td>Regular days</td>\n",
       "      <td>Average orders</td>\n",
       "      <td>10</td>\n",
       "      <td>New customer</td>\n",
       "      <td>6.367797</td>\n",
       "      <td>Low spender</td>\n",
       "      <td>20.5</td>\n",
       "      <td>Non-frequent customer</td>\n",
       "    </tr>\n",
       "    <tr>\n",
       "      <th>1</th>\n",
       "      <td>2398795</td>\n",
       "      <td>1</td>\n",
       "      <td>prior</td>\n",
       "      <td>2</td>\n",
       "      <td>3</td>\n",
       "      <td>7</td>\n",
       "      <td>15.0</td>\n",
       "      <td>False</td>\n",
       "      <td>196</td>\n",
       "      <td>1</td>\n",
       "      <td>...</td>\n",
       "      <td>Mid range product</td>\n",
       "      <td>Regularly busy</td>\n",
       "      <td>Slowest days</td>\n",
       "      <td>Average orders</td>\n",
       "      <td>10</td>\n",
       "      <td>New customer</td>\n",
       "      <td>6.367797</td>\n",
       "      <td>Low spender</td>\n",
       "      <td>20.5</td>\n",
       "      <td>Non-frequent customer</td>\n",
       "    </tr>\n",
       "    <tr>\n",
       "      <th>2</th>\n",
       "      <td>473747</td>\n",
       "      <td>1</td>\n",
       "      <td>prior</td>\n",
       "      <td>3</td>\n",
       "      <td>3</td>\n",
       "      <td>12</td>\n",
       "      <td>21.0</td>\n",
       "      <td>False</td>\n",
       "      <td>196</td>\n",
       "      <td>1</td>\n",
       "      <td>...</td>\n",
       "      <td>Mid range product</td>\n",
       "      <td>Regularly busy</td>\n",
       "      <td>Slowest days</td>\n",
       "      <td>Most orders</td>\n",
       "      <td>10</td>\n",
       "      <td>New customer</td>\n",
       "      <td>6.367797</td>\n",
       "      <td>Low spender</td>\n",
       "      <td>20.5</td>\n",
       "      <td>Non-frequent customer</td>\n",
       "    </tr>\n",
       "    <tr>\n",
       "      <th>3</th>\n",
       "      <td>2254736</td>\n",
       "      <td>1</td>\n",
       "      <td>prior</td>\n",
       "      <td>4</td>\n",
       "      <td>4</td>\n",
       "      <td>7</td>\n",
       "      <td>29.0</td>\n",
       "      <td>False</td>\n",
       "      <td>196</td>\n",
       "      <td>1</td>\n",
       "      <td>...</td>\n",
       "      <td>Mid range product</td>\n",
       "      <td>Least busy</td>\n",
       "      <td>Slowest days</td>\n",
       "      <td>Average orders</td>\n",
       "      <td>10</td>\n",
       "      <td>New customer</td>\n",
       "      <td>6.367797</td>\n",
       "      <td>Low spender</td>\n",
       "      <td>20.5</td>\n",
       "      <td>Non-frequent customer</td>\n",
       "    </tr>\n",
       "    <tr>\n",
       "      <th>4</th>\n",
       "      <td>431534</td>\n",
       "      <td>1</td>\n",
       "      <td>prior</td>\n",
       "      <td>5</td>\n",
       "      <td>4</td>\n",
       "      <td>15</td>\n",
       "      <td>28.0</td>\n",
       "      <td>False</td>\n",
       "      <td>196</td>\n",
       "      <td>1</td>\n",
       "      <td>...</td>\n",
       "      <td>Mid range product</td>\n",
       "      <td>Least busy</td>\n",
       "      <td>Slowest days</td>\n",
       "      <td>Most orders</td>\n",
       "      <td>10</td>\n",
       "      <td>New customer</td>\n",
       "      <td>6.367797</td>\n",
       "      <td>Low spender</td>\n",
       "      <td>20.5</td>\n",
       "      <td>Non-frequent customer</td>\n",
       "    </tr>\n",
       "  </tbody>\n",
       "</table>\n",
       "<p>5 rows × 26 columns</p>\n",
       "</div>"
      ],
      "text/plain": [
       "   order_id  user_id eval_set  order_number  orders_day_of_week  \\\n",
       "0   2539329        1    prior             1                   2   \n",
       "1   2398795        1    prior             2                   3   \n",
       "2    473747        1    prior             3                   3   \n",
       "3   2254736        1    prior             4                   4   \n",
       "4    431534        1    prior             5                   4   \n",
       "\n",
       "   order_hour_of_day  orders_interval  first_order  product_id  \\\n",
       "0                  8              NaN         True         196   \n",
       "1                  7             15.0        False         196   \n",
       "2                 12             21.0        False         196   \n",
       "3                  7             29.0        False         196   \n",
       "4                 15             28.0        False         196   \n",
       "\n",
       "   add_to_cart_order  ...    price_range_loc     busiest_day  busiest_day_2  \\\n",
       "0                  1  ...  Mid range product  Regularly busy   Regular days   \n",
       "1                  1  ...  Mid range product  Regularly busy   Slowest days   \n",
       "2                  1  ...  Mid range product  Regularly busy   Slowest days   \n",
       "3                  1  ...  Mid range product      Least busy   Slowest days   \n",
       "4                  1  ...  Mid range product      Least busy   Slowest days   \n",
       "\n",
       "   busiest_period_of_day  max_order  loyalty_flag avg_spending spending_flag  \\\n",
       "0         Average orders         10  New customer     6.367797   Low spender   \n",
       "1         Average orders         10  New customer     6.367797   Low spender   \n",
       "2            Most orders         10  New customer     6.367797   Low spender   \n",
       "3         Average orders         10  New customer     6.367797   Low spender   \n",
       "4            Most orders         10  New customer     6.367797   Low spender   \n",
       "\n",
       "  median_orders_interval         frequency_flag  \n",
       "0                   20.5  Non-frequent customer  \n",
       "1                   20.5  Non-frequent customer  \n",
       "2                   20.5  Non-frequent customer  \n",
       "3                   20.5  Non-frequent customer  \n",
       "4                   20.5  Non-frequent customer  \n",
       "\n",
       "[5 rows x 26 columns]"
      ]
     },
     "execution_count": 55,
     "metadata": {},
     "output_type": "execute_result"
    }
   ],
   "source": [
    "ords_prods_merge.head()"
   ]
  },
  {
   "cell_type": "markdown",
   "id": "8dea6f21",
   "metadata": {},
   "source": [
    "### Step 2: In this Exercise, you learned how to find the aggregated mean of the “order_number” column grouped by “department_id” for a subset of your dataframe. Now, repeat this process for the entire dataframe."
   ]
  },
  {
   "cell_type": "code",
   "execution_count": 6,
   "id": "3b835cd9",
   "metadata": {},
   "outputs": [
    {
     "data": {
      "text/plain": [
       "department_id\n",
       "1     15.457687\n",
       "2     17.277920\n",
       "3     17.179756\n",
       "4     17.811403\n",
       "5     15.213779\n",
       "6     16.439806\n",
       "7     17.225773\n",
       "8     15.340520\n",
       "9     15.895474\n",
       "10    20.197148\n",
       "11    16.170828\n",
       "12    15.887622\n",
       "13    16.583304\n",
       "14    16.757377\n",
       "15    16.165037\n",
       "16    17.663250\n",
       "17    15.694469\n",
       "18    19.310397\n",
       "19    17.177343\n",
       "20    16.473447\n",
       "21    22.902379\n",
       "Name: order_number, dtype: float64"
      ]
     },
     "execution_count": 6,
     "metadata": {},
     "output_type": "execute_result"
    }
   ],
   "source": [
    "ords_prods_merge.groupby('department_id')['order_number'].mean()"
   ]
  },
  {
   "cell_type": "markdown",
   "id": "0bf14042",
   "metadata": {},
   "source": [
    "### Step 3: Analyze the result. How do the results for the entire dataframe differ from those of the subset? Include your comments in a markdown cell below the executed code."
   ]
  },
  {
   "cell_type": "code",
   "execution_count": 7,
   "id": "23f262aa",
   "metadata": {},
   "outputs": [],
   "source": [
    "# Create a subset of 1000000\n",
    "df_subset = ords_prods_merge[:1000000]"
   ]
  },
  {
   "cell_type": "code",
   "execution_count": 8,
   "id": "ab26cfc3",
   "metadata": {},
   "outputs": [
    {
     "data": {
      "text/plain": [
       "department_id\n",
       "4     18.825780\n",
       "7     17.472355\n",
       "13    17.993423\n",
       "14    19.246334\n",
       "16    19.463012\n",
       "17    11.294069\n",
       "19    19.305237\n",
       "20    17.599636\n",
       "Name: order_number, dtype: float64"
      ]
     },
     "execution_count": 8,
     "metadata": {},
     "output_type": "execute_result"
    }
   ],
   "source": [
    "# Calculate aggregated mean of the “order_number” column grouped by “department_id” for the subset \n",
    "df_subset.groupby('department_id')['order_number'].mean()"
   ]
  },
  {
   "cell_type": "markdown",
   "id": "23976600",
   "metadata": {},
   "source": [
    "The results for the entire dataframe are similar with those of the subset: the difference is about ±2. This minor difference is expected since a subset of the size 1000000 is quite large and relatively representative."
   ]
  },
  {
   "cell_type": "markdown",
   "id": "c7d8b5f0",
   "metadata": {},
   "source": [
    "### Step 4: Follow the instructions in the Exercise for creating a loyalty flag for existing customers using the transform() and loc() functions."
   ]
  },
  {
   "cell_type": "code",
   "execution_count": 34,
   "id": "cff89929",
   "metadata": {},
   "outputs": [],
   "source": [
    "# firstly create a new column with max_order\n",
    "ords_prods_merge['max_order'] = ords_prods_merge.groupby(['user_id'])['order_number'].transform('max')"
   ]
  },
  {
   "cell_type": "code",
   "execution_count": 12,
   "id": "c33f1a31",
   "metadata": {},
   "outputs": [],
   "source": [
    "# then create the flag based on the criteria\n",
    "ords_prods_merge.loc[ords_prods_merge['max_order'] > 40, 'loyalty_flag'] = 'Loyal customer'"
   ]
  },
  {
   "cell_type": "code",
   "execution_count": 13,
   "id": "22b69a8d",
   "metadata": {},
   "outputs": [],
   "source": [
    "ords_prods_merge.loc[(ords_prods_merge['max_order'] <= 40) & (ords_prods_merge['max_order'] > 10), 'loyalty_flag'] = 'Regular customer'"
   ]
  },
  {
   "cell_type": "code",
   "execution_count": 14,
   "id": "5fa6f9cd",
   "metadata": {},
   "outputs": [],
   "source": [
    "ords_prods_merge.loc[ords_prods_merge['max_order'] <= 10, 'loyalty_flag'] = 'New customer'"
   ]
  },
  {
   "cell_type": "code",
   "execution_count": 15,
   "id": "37d7953f",
   "metadata": {},
   "outputs": [
    {
     "data": {
      "text/plain": [
       "loyalty_flag\n",
       "Regular customer    15891077\n",
       "Loyal customer      10293737\n",
       "New customer         6249398\n",
       "Name: count, dtype: int64"
      ]
     },
     "execution_count": 15,
     "metadata": {},
     "output_type": "execute_result"
    }
   ],
   "source": [
    "# print the frequency of new “loyalty_flag” column \n",
    "ords_prods_merge['loyalty_flag'].value_counts(dropna = False)"
   ]
  },
  {
   "cell_type": "markdown",
   "id": "042d9229",
   "metadata": {},
   "source": [
    "### Step 5: The marketing team at Instacart wants to know whether there’s a difference between the spending habits of the three types of customers you identified. Use the loyalty flag you created and check the basic statistics of the product prices for each loyalty category (Loyal Customer, Regular Customer, and New Customer). What you’re trying to determine is whether the prices of products purchased by loyal customers differ from those purchased by regular or new customers."
   ]
  },
  {
   "cell_type": "code",
   "execution_count": 16,
   "id": "3e8daf94",
   "metadata": {},
   "outputs": [
    {
     "data": {
      "text/plain": [
       "loyalty_flag\n",
       "Loyal customer      10.388747\n",
       "New customer        13.294370\n",
       "Regular customer    12.496203\n",
       "Name: prices, dtype: float64"
      ]
     },
     "execution_count": 16,
     "metadata": {},
     "output_type": "execute_result"
    }
   ],
   "source": [
    "ords_prods_merge.groupby('loyalty_flag')['prices'].mean()"
   ]
  },
  {
   "cell_type": "markdown",
   "id": "1504b2ef",
   "metadata": {},
   "source": [
    "The prices of products purchased by loyal customers are lower than those purchased by regular or new customers."
   ]
  },
  {
   "cell_type": "markdown",
   "id": "e3d0d6ea",
   "metadata": {},
   "source": [
    "### Step 6: The team now wants to target different types of spenders in their marketing campaigns. This can be achieved by looking at the prices of the items people are buying. Create a spending flag for each user based on the average price across all their orders using the following criteria: "
   ]
  },
  {
   "cell_type": "markdown",
   "id": "35eca2d3",
   "metadata": {},
   "source": [
    "a) If the mean of the prices of products purchased by a user is lower than 10, then flag them as a “Low spender.” "
   ]
  },
  {
   "cell_type": "markdown",
   "id": "63a4630c",
   "metadata": {},
   "source": [
    "b) If the mean of the prices of products purchased by a user is higher than or equal to 10, then flag them as a “High spender.”"
   ]
  },
  {
   "cell_type": "code",
   "execution_count": 33,
   "id": "87c76ab5",
   "metadata": {},
   "outputs": [],
   "source": [
    "# firstly create a new column with avg_spending\n",
    "ords_prods_merge['avg_spending'] = ords_prods_merge.groupby(['user_id'])['prices'].transform('mean')"
   ]
  },
  {
   "cell_type": "code",
   "execution_count": 24,
   "id": "a58c7e84",
   "metadata": {},
   "outputs": [],
   "source": [
    "# then create the flag based on the criteria\n",
    "ords_prods_merge.loc[ords_prods_merge['avg_spending'] >= 10, 'spending_flag'] = 'High spender'"
   ]
  },
  {
   "cell_type": "code",
   "execution_count": 25,
   "id": "c110a6bf",
   "metadata": {},
   "outputs": [],
   "source": [
    "ords_prods_merge.loc[ords_prods_merge['avg_spending'] < 10, 'spending_flag'] = 'Low spender'"
   ]
  },
  {
   "cell_type": "code",
   "execution_count": 28,
   "id": "f079504e",
   "metadata": {},
   "outputs": [
    {
     "data": {
      "text/plain": [
       "spending_flag\n",
       "Low spender     31798751\n",
       "High spender      635461\n",
       "Name: count, dtype: int64"
      ]
     },
     "execution_count": 28,
     "metadata": {},
     "output_type": "execute_result"
    }
   ],
   "source": [
    "# print the frequency\n",
    "ords_prods_merge['spending_flag'].value_counts(dropna = False)"
   ]
  },
  {
   "cell_type": "code",
   "execution_count": 27,
   "id": "f8491d2a",
   "metadata": {},
   "outputs": [
    {
     "data": {
      "text/html": [
       "<div>\n",
       "<style scoped>\n",
       "    .dataframe tbody tr th:only-of-type {\n",
       "        vertical-align: middle;\n",
       "    }\n",
       "\n",
       "    .dataframe tbody tr th {\n",
       "        vertical-align: top;\n",
       "    }\n",
       "\n",
       "    .dataframe thead th {\n",
       "        text-align: right;\n",
       "    }\n",
       "</style>\n",
       "<table border=\"1\" class=\"dataframe\">\n",
       "  <thead>\n",
       "    <tr style=\"text-align: right;\">\n",
       "      <th></th>\n",
       "      <th>user_id</th>\n",
       "      <th>spending_flag</th>\n",
       "      <th>avg_spending</th>\n",
       "    </tr>\n",
       "  </thead>\n",
       "  <tbody>\n",
       "    <tr>\n",
       "      <th>0</th>\n",
       "      <td>1</td>\n",
       "      <td>Low spender</td>\n",
       "      <td>6.367797</td>\n",
       "    </tr>\n",
       "    <tr>\n",
       "      <th>1</th>\n",
       "      <td>1</td>\n",
       "      <td>Low spender</td>\n",
       "      <td>6.367797</td>\n",
       "    </tr>\n",
       "    <tr>\n",
       "      <th>2</th>\n",
       "      <td>1</td>\n",
       "      <td>Low spender</td>\n",
       "      <td>6.367797</td>\n",
       "    </tr>\n",
       "    <tr>\n",
       "      <th>3</th>\n",
       "      <td>1</td>\n",
       "      <td>Low spender</td>\n",
       "      <td>6.367797</td>\n",
       "    </tr>\n",
       "    <tr>\n",
       "      <th>4</th>\n",
       "      <td>1</td>\n",
       "      <td>Low spender</td>\n",
       "      <td>6.367797</td>\n",
       "    </tr>\n",
       "    <tr>\n",
       "      <th>...</th>\n",
       "      <td>...</td>\n",
       "      <td>...</td>\n",
       "      <td>...</td>\n",
       "    </tr>\n",
       "    <tr>\n",
       "      <th>95</th>\n",
       "      <td>360</td>\n",
       "      <td>High spender</td>\n",
       "      <td>10.006250</td>\n",
       "    </tr>\n",
       "    <tr>\n",
       "      <th>96</th>\n",
       "      <td>377</td>\n",
       "      <td>Low spender</td>\n",
       "      <td>8.496552</td>\n",
       "    </tr>\n",
       "    <tr>\n",
       "      <th>97</th>\n",
       "      <td>387</td>\n",
       "      <td>Low spender</td>\n",
       "      <td>7.396610</td>\n",
       "    </tr>\n",
       "    <tr>\n",
       "      <th>98</th>\n",
       "      <td>420</td>\n",
       "      <td>Low spender</td>\n",
       "      <td>7.657813</td>\n",
       "    </tr>\n",
       "    <tr>\n",
       "      <th>99</th>\n",
       "      <td>420</td>\n",
       "      <td>Low spender</td>\n",
       "      <td>7.657813</td>\n",
       "    </tr>\n",
       "  </tbody>\n",
       "</table>\n",
       "<p>100 rows × 3 columns</p>\n",
       "</div>"
      ],
      "text/plain": [
       "    user_id spending_flag  avg_spending\n",
       "0         1   Low spender      6.367797\n",
       "1         1   Low spender      6.367797\n",
       "2         1   Low spender      6.367797\n",
       "3         1   Low spender      6.367797\n",
       "4         1   Low spender      6.367797\n",
       "..      ...           ...           ...\n",
       "95      360  High spender     10.006250\n",
       "96      377   Low spender      8.496552\n",
       "97      387   Low spender      7.396610\n",
       "98      420   Low spender      7.657813\n",
       "99      420   Low spender      7.657813\n",
       "\n",
       "[100 rows x 3 columns]"
      ]
     },
     "execution_count": 27,
     "metadata": {},
     "output_type": "execute_result"
    }
   ],
   "source": [
    "# check whether right flags are assigned\n",
    "ords_prods_merge[['user_id', 'spending_flag', 'avg_spending']].head(100)"
   ]
  },
  {
   "cell_type": "markdown",
   "id": "484cf1d5",
   "metadata": {},
   "source": [
    "### Step 7: In order to send relevant notifications to users within the app (for instance, asking users if they want to buy the same item again), the Instacart team wants you to determine frequent versus non-frequent customers. Create an order frequency flag that marks the regularity of a user’s ordering behavior according to the median in the “days_since_prior_order” column. The criteria for the flag should be as follows:"
   ]
  },
  {
   "cell_type": "markdown",
   "id": "ece0165a",
   "metadata": {},
   "source": [
    "a) If the median of “days_since_prior_order” is higher than 20, then the customer should be labeled a “Non-frequent customer.”"
   ]
  },
  {
   "cell_type": "markdown",
   "id": "fa832222",
   "metadata": {},
   "source": [
    "b) If the median is higher than 10 and lower than or equal to 20, then the customer should be labeled a “Regular customer.”"
   ]
  },
  {
   "cell_type": "markdown",
   "id": "a393583f",
   "metadata": {},
   "source": [
    "c) If the median is lower than or equal to 10, then the customer should be labeled a “Frequent customer.”"
   ]
  },
  {
   "cell_type": "code",
   "execution_count": 39,
   "id": "ef79608f",
   "metadata": {},
   "outputs": [],
   "source": [
    "# firstly create a new column with median of 'days_since_prior_orders' (in my case this column was renamed as 'orders_interval')\n",
    "ords_prods_merge['median_orders_interval'] = ords_prods_merge.groupby(['user_id'])['orders_interval'].transform('median')"
   ]
  },
  {
   "cell_type": "code",
   "execution_count": 41,
   "id": "6b983844",
   "metadata": {},
   "outputs": [],
   "source": [
    "# then create the flag based on the criteria\n",
    "ords_prods_merge.loc[ords_prods_merge['median_orders_interval'] > 20, 'frequency_flag'] = 'Non-frequent customer'"
   ]
  },
  {
   "cell_type": "code",
   "execution_count": 43,
   "id": "e863a851",
   "metadata": {},
   "outputs": [],
   "source": [
    "ords_prods_merge.loc[(ords_prods_merge['median_orders_interval'] <= 20) & (ords_prods_merge['median_orders_interval'] > 10), 'frequency_flag'] = 'Regular customer'"
   ]
  },
  {
   "cell_type": "code",
   "execution_count": 44,
   "id": "e8a66d6f",
   "metadata": {},
   "outputs": [],
   "source": [
    "ords_prods_merge.loc[ords_prods_merge['median_orders_interval'] <= 10, 'frequency_flag'] = 'Frequent customer'"
   ]
  },
  {
   "cell_type": "code",
   "execution_count": 45,
   "id": "7b9a47a8",
   "metadata": {},
   "outputs": [
    {
     "data": {
      "text/plain": [
       "frequency_flag\n",
       "Frequent customer        21577409\n",
       "Regular customer          7217134\n",
       "Non-frequent customer     3639669\n",
       "Name: count, dtype: int64"
      ]
     },
     "execution_count": 45,
     "metadata": {},
     "output_type": "execute_result"
    }
   ],
   "source": [
    "# print the frequency\n",
    "ords_prods_merge['frequency_flag'].value_counts(dropna = False)"
   ]
  },
  {
   "cell_type": "code",
   "execution_count": 46,
   "id": "0d4ee3c3",
   "metadata": {},
   "outputs": [
    {
     "data": {
      "text/html": [
       "<div>\n",
       "<style scoped>\n",
       "    .dataframe tbody tr th:only-of-type {\n",
       "        vertical-align: middle;\n",
       "    }\n",
       "\n",
       "    .dataframe tbody tr th {\n",
       "        vertical-align: top;\n",
       "    }\n",
       "\n",
       "    .dataframe thead th {\n",
       "        text-align: right;\n",
       "    }\n",
       "</style>\n",
       "<table border=\"1\" class=\"dataframe\">\n",
       "  <thead>\n",
       "    <tr style=\"text-align: right;\">\n",
       "      <th></th>\n",
       "      <th>user_id</th>\n",
       "      <th>frequency_flag</th>\n",
       "      <th>median_orders_interval</th>\n",
       "    </tr>\n",
       "  </thead>\n",
       "  <tbody>\n",
       "    <tr>\n",
       "      <th>0</th>\n",
       "      <td>1</td>\n",
       "      <td>Non-frequent customer</td>\n",
       "      <td>20.5</td>\n",
       "    </tr>\n",
       "    <tr>\n",
       "      <th>1</th>\n",
       "      <td>1</td>\n",
       "      <td>Non-frequent customer</td>\n",
       "      <td>20.5</td>\n",
       "    </tr>\n",
       "    <tr>\n",
       "      <th>2</th>\n",
       "      <td>1</td>\n",
       "      <td>Non-frequent customer</td>\n",
       "      <td>20.5</td>\n",
       "    </tr>\n",
       "    <tr>\n",
       "      <th>3</th>\n",
       "      <td>1</td>\n",
       "      <td>Non-frequent customer</td>\n",
       "      <td>20.5</td>\n",
       "    </tr>\n",
       "    <tr>\n",
       "      <th>4</th>\n",
       "      <td>1</td>\n",
       "      <td>Non-frequent customer</td>\n",
       "      <td>20.5</td>\n",
       "    </tr>\n",
       "    <tr>\n",
       "      <th>...</th>\n",
       "      <td>...</td>\n",
       "      <td>...</td>\n",
       "      <td>...</td>\n",
       "    </tr>\n",
       "    <tr>\n",
       "      <th>95</th>\n",
       "      <td>360</td>\n",
       "      <td>Frequent customer</td>\n",
       "      <td>4.0</td>\n",
       "    </tr>\n",
       "    <tr>\n",
       "      <th>96</th>\n",
       "      <td>377</td>\n",
       "      <td>Regular customer</td>\n",
       "      <td>16.5</td>\n",
       "    </tr>\n",
       "    <tr>\n",
       "      <th>97</th>\n",
       "      <td>387</td>\n",
       "      <td>Frequent customer</td>\n",
       "      <td>8.0</td>\n",
       "    </tr>\n",
       "    <tr>\n",
       "      <th>98</th>\n",
       "      <td>420</td>\n",
       "      <td>Frequent customer</td>\n",
       "      <td>7.0</td>\n",
       "    </tr>\n",
       "    <tr>\n",
       "      <th>99</th>\n",
       "      <td>420</td>\n",
       "      <td>Frequent customer</td>\n",
       "      <td>7.0</td>\n",
       "    </tr>\n",
       "  </tbody>\n",
       "</table>\n",
       "<p>100 rows × 3 columns</p>\n",
       "</div>"
      ],
      "text/plain": [
       "    user_id         frequency_flag  median_orders_interval\n",
       "0         1  Non-frequent customer                    20.5\n",
       "1         1  Non-frequent customer                    20.5\n",
       "2         1  Non-frequent customer                    20.5\n",
       "3         1  Non-frequent customer                    20.5\n",
       "4         1  Non-frequent customer                    20.5\n",
       "..      ...                    ...                     ...\n",
       "95      360      Frequent customer                     4.0\n",
       "96      377       Regular customer                    16.5\n",
       "97      387      Frequent customer                     8.0\n",
       "98      420      Frequent customer                     7.0\n",
       "99      420      Frequent customer                     7.0\n",
       "\n",
       "[100 rows x 3 columns]"
      ]
     },
     "execution_count": 46,
     "metadata": {},
     "output_type": "execute_result"
    }
   ],
   "source": [
    "# check whether right flags are assigned\n",
    "ords_prods_merge[['user_id', 'frequency_flag', 'median_orders_interval']].head(100)"
   ]
  },
  {
   "cell_type": "markdown",
   "id": "cfc0a2cf",
   "metadata": {},
   "source": [
    "### Step 9: Export your dataframe as a pickle file and store it correctly in your “Prepared Data” folder."
   ]
  },
  {
   "cell_type": "code",
   "execution_count": 56,
   "id": "fa7f34d3",
   "metadata": {},
   "outputs": [],
   "source": [
    "ords_prods_merge.to_pickle(os.path.join(path, '02 Data', 'Prepared Data', 'ords_prods_merged_derived_grouped.pkl'))"
   ]
  },
  {
   "cell_type": "code",
   "execution_count": null,
   "id": "2312a470",
   "metadata": {},
   "outputs": [],
   "source": []
  }
 ],
 "metadata": {
  "kernelspec": {
   "display_name": "Python 3 (ipykernel)",
   "language": "python",
   "name": "python3"
  },
  "language_info": {
   "codemirror_mode": {
    "name": "ipython",
    "version": 3
   },
   "file_extension": ".py",
   "mimetype": "text/x-python",
   "name": "python",
   "nbconvert_exporter": "python",
   "pygments_lexer": "ipython3",
   "version": "3.11.5"
  }
 },
 "nbformat": 4,
 "nbformat_minor": 5
}
